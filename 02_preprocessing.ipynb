{
 "cells": [
  {
   "cell_type": "code",
   "execution_count": 27,
   "id": "d0498031-4cb6-4929-a77c-1129053c8a65",
   "metadata": {},
   "outputs": [],
   "source": [
    "import pandas as pd"
   ]
  },
  {
   "cell_type": "code",
   "execution_count": 28,
   "id": "7a08eb0e-4c4a-4258-9d04-e323c4a8a057",
   "metadata": {},
   "outputs": [
    {
     "name": "stdout",
     "output_type": "stream",
     "text": [
      "Loaded events_clean.parquet\n"
     ]
    }
   ],
   "source": [
    "try:\n",
    "    df = pd.read_parquet(\"data/processed/events_clean.parquet\")\n",
    "    print(\"Loaded events_clean.parquet\")\n",
    "except FileNotFoundError:\n",
    "    df = pd.read_csv(\"data/processed/events_clean.csv\")\n",
    "    print(\"Loaded events_clean.csv\")"
   ]
  },
  {
   "cell_type": "code",
   "execution_count": 29,
   "id": "301448ba-27e6-4847-9d96-d19be3ca992b",
   "metadata": {},
   "outputs": [
    {
     "name": "stdout",
     "output_type": "stream",
     "text": [
      "Shape: (10000, 5)\n",
      "\n",
      "Column info:\n",
      "User ID                         object\n",
      "Timestamp          datetime64[ns, UTC]\n",
      "Channel                       category\n",
      "Campaign                      category\n",
      "conversion_flag                  int64\n",
      "dtype: object\n",
      "\n",
      "Missing values per column:\n",
      "User ID            0\n",
      "Timestamp          0\n",
      "Channel            0\n",
      "Campaign           0\n",
      "conversion_flag    0\n",
      "dtype: int64\n",
      "\n",
      "Sample rows:\n",
      "  User ID                 Timestamp         Channel            Campaign  \\\n",
      "0   83281 2025-02-10 07:58:51+00:00           Email  New Product Launch   \n",
      "1   68071 2025-02-10 23:38:48+00:00      Search Ads         Winter Sale   \n",
      "2   90131 2025-02-11 10:41:07+00:00    Social Media     Brand Awareness   \n",
      "3   71026 2025-02-10 08:19:44+00:00  Direct Traffic                   -   \n",
      "4   94486 2025-02-10 15:15:46+00:00           Email         Retargeting   \n",
      "\n",
      "   conversion_flag  \n",
      "0                0  \n",
      "1                0  \n",
      "2                1  \n",
      "3                1  \n",
      "4                1  \n"
     ]
    }
   ],
   "source": [
    "print(\"Shape:\", df.shape)\n",
    "print(\"\\nColumn info:\")\n",
    "print(df.dtypes)\n",
    "\n",
    "print(\"\\nMissing values per column:\")\n",
    "print(df.isna().sum())\n",
    "\n",
    "print(\"\\nSample rows:\")\n",
    "print(df.head())"
   ]
  },
  {
   "cell_type": "markdown",
   "id": "3670b9d5-2a2c-4262-90f9-85807c879daf",
   "metadata": {},
   "source": [
    "## Policy: Conversion Handling\n",
    "\n",
    "For all path construction and attribution modeling, we will use:\n",
    "\n",
    "- [x] **First-conversion only** (truncate events after a user’s first conversion)\n",
    "- [ ] All conversions (keep every event, including post-conversion)\n",
    "\n",
    "**Rationale:** We want attribution to credit the journey leading to the first purchase; post-conversion touches will be excluded from paths.\n"
   ]
  },
  {
   "cell_type": "code",
   "execution_count": 30,
   "id": "5ff58942-0a87-4cd8-90f7-1ff663e085c3",
   "metadata": {},
   "outputs": [
    {
     "name": "stdout",
     "output_type": "stream",
     "text": [
      "Policy applied: FIRST-CONVERSION ONLY\n",
      "Dropped post-conversion events: 5146 (from 10000 rows)\n",
      "Remaining rows: 4854\n"
     ]
    }
   ],
   "source": [
    "POLICY = \"first_conversion\"   # change to \"all\" if you want to keep everything\n",
    "\n",
    "df = df.sort_values([\"User ID\", \"Timestamp\"]).reset_index(drop=True)\n",
    "\n",
    "if POLICY == \"first_conversion\":\n",
    "    # Find each user's first conversion timestamp\n",
    "    first_conv_ts = (\n",
    "        df[df[\"conversion_flag\"] == 1]\n",
    "        .groupby(\"User ID\")[\"Timestamp\"]\n",
    "        .min()\n",
    "        .rename(\"first_conv_ts\")\n",
    "    )\n",
    "    df = df.join(first_conv_ts, on=\"User ID\")\n",
    "\n",
    "    before_rows = len(df)\n",
    "    post_conv = df[\"first_conv_ts\"].notna() & (df[\"Timestamp\"] > df[\"first_conv_ts\"])\n",
    "    dropped = int(post_conv.sum())\n",
    "    df = df.loc[~post_conv].copy()\n",
    "\n",
    "    df = df.drop(columns=[\"first_conv_ts\"])\n",
    "\n",
    "    print(f\"Policy applied: FIRST-CONVERSION ONLY\")\n",
    "    print(f\"Dropped post-conversion events: {dropped} (from {before_rows} rows)\")\n",
    "    print(f\"Remaining rows: {len(df)}\")\n",
    "\n",
    "elif POLICY == \"all\":\n",
    "    print(\"Policy applied: ALL CONVERSIONS (no truncation)\")\n",
    "else:\n",
    "    raise ValueError(\"POLICY must be 'first_conversion' or 'all'\")\n"
   ]
  },
  {
   "cell_type": "code",
   "execution_count": 31,
   "id": "cfc79100-40e4-4173-95ab-bda060afb562",
   "metadata": {},
   "outputs": [],
   "source": [
    "from pathlib import Path\n"
   ]
  },
  {
   "cell_type": "code",
   "execution_count": 32,
   "id": "1be5ef2d-ff59-4145-8f5c-166fa817e932",
   "metadata": {},
   "outputs": [
    {
     "name": "stdout",
     "output_type": "stream",
     "text": [
      "Saved 2,847 user paths to data/processed/user_paths.csv\n",
      "  User ID                                   Path  Path_Conversion  \\\n",
      "0   10028                             Search Ads                1   \n",
      "1   10045               Search Ads > Display Ads                1   \n",
      "2   10062  Social Media > Direct Traffic > Email                1   \n",
      "3   10068                             Search Ads                1   \n",
      "4   10095                            Display Ads                1   \n",
      "\n",
      "   path_length  n_unique_channels first_channel last_channel  \\\n",
      "0            1                  1    Search Ads   Search Ads   \n",
      "1            2                  2    Search Ads  Display Ads   \n",
      "2            3                  3  Social Media        Email   \n",
      "3            1                  1    Search Ads   Search Ads   \n",
      "4            1                  1   Display Ads  Display Ads   \n",
      "\n",
      "                 path_start                  path_end  path_duration  \n",
      "0 2025-02-10 01:44:12+00:00 2025-02-10 01:44:12+00:00              0  \n",
      "1 2025-02-10 17:20:43+00:00 2025-02-11 18:44:15+00:00          91412  \n",
      "2 2025-02-10 15:42:42+00:00 2025-02-11 21:10:27+00:00         106065  \n",
      "3 2025-02-10 07:07:39+00:00 2025-02-10 07:07:39+00:00              0  \n",
      "4 2025-02-10 07:07:27+00:00 2025-02-10 07:07:27+00:00              0  \n"
     ]
    }
   ],
   "source": [
    "df = df.sort_values([\"User ID\", \"Timestamp\"]).reset_index(drop=True)\n",
    "\n",
    "# Build per-user paths + features\n",
    "paths = (\n",
    "    df.groupby(\"User ID\")\n",
    "      .agg(\n",
    "          Path=(\"Channel\", lambda s: \" > \".join(s.tolist())),\n",
    "          Path_Conversion=(\"conversion_flag\", \"max\"),\n",
    "          path_length=(\"Channel\", \"size\"),\n",
    "          n_unique_channels=(\"Channel\", \"nunique\"),\n",
    "          first_channel=(\"Channel\", \"first\"),\n",
    "          last_channel=(\"Channel\", \"last\"),\n",
    "          path_start=(\"Timestamp\", \"min\"),\n",
    "          path_end=(\"Timestamp\", \"max\"),\n",
    "      )\n",
    "      .reset_index()\n",
    ")\n",
    "\n",
    "# Duration in seconds\n",
    "paths[\"path_duration\"] = (paths[\"path_end\"] - paths[\"path_start\"]).dt.total_seconds().astype(\"Int64\")\n",
    "\n",
    "# Reorder columns to match your spec\n",
    "paths = paths[\n",
    "    [\"User ID\", \"Path\", \"Path_Conversion\", \"path_length\", \"n_unique_channels\",\n",
    "     \"first_channel\", \"last_channel\", \"path_start\", \"path_end\", \"path_duration\"]\n",
    "]\n",
    "\n",
    "# Save to file\n",
    "Path(\"data/processed\").mkdir(parents=True, exist_ok=True)\n",
    "out_path = \"data/processed/user_paths.csv\"\n",
    "paths.to_csv(out_path, index=False)\n",
    "\n",
    "print(f\"Saved {len(paths):,} user paths to {out_path}\")\n",
    "print(paths.head())"
   ]
  },
  {
   "cell_type": "code",
   "execution_count": 33,
   "id": "f3c92743-c01c-4ac4-8930-e685e6d240c2",
   "metadata": {},
   "outputs": [
    {
     "name": "stdout",
     "output_type": "stream",
     "text": [
      "Top 10 most common paths:\n",
      "                          Path  users  conv_rate\n",
      "0               Direct Traffic    277   0.895307\n",
      "67                 Display Ads    277   0.916968\n",
      "193                   Referral    259   0.907336\n",
      "308               Social Media    259   0.903475\n",
      "128                      Email    252   0.876984\n",
      "249                 Search Ads    245   0.861224\n",
      "276      Search Ads > Referral     31   0.806452\n",
      "76   Display Ads > Display Ads     29   0.827586\n",
      "299  Search Ads > Social Media     28   0.785714\n",
      "267         Search Ads > Email     28   0.785714\n"
     ]
    }
   ],
   "source": [
    "path_summary = (\n",
    "    paths.groupby(\"Path\")\n",
    "         .agg(\n",
    "             users=(\"User ID\", \"count\"),\n",
    "             conv_rate=(\"Path_Conversion\", \"mean\")\n",
    "         )\n",
    "         .reset_index()\n",
    "         .sort_values(\"users\", ascending=False)\n",
    ")\n",
    "\n",
    "print(\"Top 10 most common paths:\")\n",
    "print(path_summary.head(10))\n"
   ]
  },
  {
   "cell_type": "code",
   "execution_count": 34,
   "id": "71a82824-e032-4b25-b911-e864f25f54bc",
   "metadata": {},
   "outputs": [
    {
     "name": "stdout",
     "output_type": "stream",
     "text": [
      "\n",
      "Conversion rate by path length:\n",
      "   path_length  users  conv_rate\n",
      "0            1   1569   0.894200\n",
      "1            2    783   0.804598\n",
      "2            3    328   0.725610\n",
      "3            4    118   0.669492\n",
      "4            5     34   0.617647\n",
      "5            6     13   0.692308\n",
      "6            7      1   0.000000\n",
      "7            8      1   1.000000\n"
     ]
    }
   ],
   "source": [
    "pathlen_summary = (\n",
    "    paths.groupby(\"path_length\")\n",
    "         .agg(users=(\"User ID\", \"count\"),\n",
    "              conv_rate=(\"Path_Conversion\", \"mean\"))\n",
    "         .reset_index()\n",
    "         .sort_values(\"path_length\")\n",
    ")\n",
    "\n",
    "print(\"\\nConversion rate by path length:\")\n",
    "print(pathlen_summary.head(15))"
   ]
  },
  {
   "cell_type": "code",
   "execution_count": 35,
   "id": "f552dfc3-b7ca-452e-ae9b-e1342dae2481",
   "metadata": {},
   "outputs": [],
   "source": [
    "import matplotlib.pyplot as plt\n",
    "import seaborn as sns\n"
   ]
  },
  {
   "cell_type": "code",
   "execution_count": 36,
   "id": "96da7967-a12a-4945-90d4-bccbcd2d0177",
   "metadata": {},
   "outputs": [
    {
     "data": {
      "image/png": "[encoded data removed]",
      "text/plain": [
       "<Figure size 600x400 with 1 Axes>"
      ]
     },
     "metadata": {},
     "output_type": "display_data"
    }
   ],
   "source": [
    "plt.figure(figsize=(6,4))\n",
    "sns.barplot(data=pathlen_summary, x=\"path_length\", y=\"conv_rate\")\n",
    "plt.title(\"Conversion Rate by Path Length\")\n",
    "plt.xlabel(\"Path Length (# Touches)\")\n",
    "plt.ylabel(\"Conversion Rate\")\n",
    "plt.tight_layout()\n",
    "plt.show()\n"
   ]
  },
  {
   "cell_type": "code",
   "execution_count": 37,
   "id": "38b3bb8f-17f7-4738-b3ec-4a0b0daabcad",
   "metadata": {},
   "outputs": [
    {
     "name": "stdout",
     "output_type": "stream",
     "text": [
      "\n",
      "Conversion rate by number of unique channels:\n",
      "   n_unique_channels  users  conv_rate\n",
      "0                  1   1707   0.885764\n",
      "1                  2    827   0.787183\n",
      "2                  3    261   0.708812\n",
      "3                  4     47   0.595745\n",
      "4                  5      5   1.000000\n"
     ]
    }
   ],
   "source": [
    "uniqchan_summary = (\n",
    "    paths.groupby(\"n_unique_channels\")\n",
    "         .agg(users=(\"User ID\",\"count\"),\n",
    "              conv_rate=(\"Path_Conversion\",\"mean\"))\n",
    "         .reset_index()\n",
    "         .sort_values(\"n_unique_channels\")\n",
    ")\n",
    "\n",
    "print(\"\\nConversion rate by number of unique channels:\")\n",
    "print(uniqchan_summary)\n"
   ]
  },
  {
   "cell_type": "code",
   "execution_count": 38,
   "id": "c27e8b0c-6f49-4d1e-aede-1b37a609ce40",
   "metadata": {},
   "outputs": [
    {
     "data": {
      "image/png": "[encoded data removed]",
      "text/plain": [
       "<Figure size 600x400 with 1 Axes>"
      ]
     },
     "metadata": {},
     "output_type": "display_data"
    }
   ],
   "source": [
    "plt.figure(figsize=(6,4))\n",
    "sns.barplot(data=uniqchan_summary, x=\"n_unique_channels\", y=\"conv_rate\")\n",
    "plt.title(\"Conversion Rate by Unique Channels\")\n",
    "plt.xlabel(\"Unique Channels per Path\")\n",
    "plt.ylabel(\"Conversion Rate\")\n",
    "plt.tight_layout()\n",
    "plt.show()"
   ]
  },
  {
   "cell_type": "code",
   "execution_count": 39,
   "id": "a1312fd7-c186-4481-a682-a3bbb571636c",
   "metadata": {},
   "outputs": [],
   "source": [
    "Path(\"data/processed\").mkdir(parents=True, exist_ok=True)"
   ]
  },
  {
   "cell_type": "code",
   "execution_count": 40,
   "id": "ea915e28-e386-44e5-a438-406c92a524bb",
   "metadata": {},
   "outputs": [],
   "source": [
    "first_all = paths[\"first_channel\"].value_counts().rename_axis(\"channel\").to_frame(\"users_all\")\n",
    "first_conv = (paths.loc[paths[\"Path_Conversion\"] == 1, \"first_channel\"]\n",
    "                   .value_counts().rename_axis(\"channel\").to_frame(\"users_converters\"))\n",
    "first_touch_table = first_all.join(first_conv, how=\"outer\").fillna(0).astype(int).reset_index()\n",
    "first_touch_table.to_csv(\"data/processed/first_touch_table.csv\", index=False)\n"
   ]
  },
  {
   "cell_type": "code",
   "execution_count": 41,
   "id": "5056738c-7b8e-4522-a0de-c1e48146420e",
   "metadata": {},
   "outputs": [],
   "source": [
    "last_all = paths[\"last_channel\"].value_counts().rename_axis(\"channel\").to_frame(\"users_all\")\n",
    "last_conv = (paths.loc[paths[\"Path_Conversion\"] == 1, \"last_channel\"]\n",
    "                  .value_counts().rename_axis(\"channel\").to_frame(\"users_converters\"))\n",
    "last_touch_table = last_all.join(last_conv, how=\"outer\").fillna(0).astype(int).reset_index()\n",
    "last_touch_table.to_csv(\"data/processed/last_touch_table.csv\", index=False)\n"
   ]
  },
  {
   "cell_type": "code",
   "execution_count": 42,
   "id": "7abf1b31-3fb3-439c-9839-5eceff17f4e4",
   "metadata": {},
   "outputs": [
    {
     "name": "stdout",
     "output_type": "stream",
     "text": [
      "✅ Saved first_touch_table.csv and last_touch_table.csv\n"
     ]
    },
    {
     "data": {
      "text/plain": [
       "(          channel  users_all  users_converters\n",
       " 0  Direct Traffic        489               411\n",
       " 1     Display Ads        492               428\n",
       " 2           Email        450               374\n",
       " 3        Referral        486               408\n",
       " 4      Search Ads        461               371,\n",
       "           channel  users_all  users_converters\n",
       " 0  Direct Traffic        488               402\n",
       " 1     Display Ads        482               415\n",
       " 2           Email        473               391\n",
       " 3        Referral        483               412\n",
       " 4      Search Ads        434               349)"
      ]
     },
     "execution_count": 42,
     "metadata": {},
     "output_type": "execute_result"
    }
   ],
   "source": [
    "print(\"✅ Saved first_touch_table.csv and last_touch_table.csv\")\n",
    "first_touch_table.head(), last_touch_table.head()"
   ]
  },
  {
   "cell_type": "code",
   "execution_count": 43,
   "id": "4843b8eb-40b6-4ed4-a18f-7bd52b0aa6cc",
   "metadata": {},
   "outputs": [
    {
     "name": "stdout",
     "output_type": "stream",
     "text": [
      " Saved 3,860 touch rows for linear attribution to data/processed/linear_credit_prep.csv\n"
     ]
    },
    {
     "data": {
      "text/html": [
       "<div>\n",
       "<style scoped>\n",
       "    .dataframe tbody tr th:only-of-type {\n",
       "        vertical-align: middle;\n",
       "    }\n",
       "\n",
       "    .dataframe tbody tr th {\n",
       "        vertical-align: top;\n",
       "    }\n",
       "\n",
       "    .dataframe thead th {\n",
       "        text-align: right;\n",
       "    }\n",
       "</style>\n",
       "<table border=\"1\" class=\"dataframe\">\n",
       "  <thead>\n",
       "    <tr style=\"text-align: right;\">\n",
       "      <th></th>\n",
       "      <th>User ID</th>\n",
       "      <th>Path</th>\n",
       "      <th>channel</th>\n",
       "      <th>touch_pos</th>\n",
       "    </tr>\n",
       "  </thead>\n",
       "  <tbody>\n",
       "    <tr>\n",
       "      <th>0</th>\n",
       "      <td>10028</td>\n",
       "      <td>Search Ads</td>\n",
       "      <td>Search Ads</td>\n",
       "      <td>1</td>\n",
       "    </tr>\n",
       "    <tr>\n",
       "      <th>1</th>\n",
       "      <td>10045</td>\n",
       "      <td>Search Ads &gt; Display Ads</td>\n",
       "      <td>Search Ads</td>\n",
       "      <td>1</td>\n",
       "    </tr>\n",
       "    <tr>\n",
       "      <th>2</th>\n",
       "      <td>10045</td>\n",
       "      <td>Search Ads &gt; Display Ads</td>\n",
       "      <td>Display Ads</td>\n",
       "      <td>2</td>\n",
       "    </tr>\n",
       "    <tr>\n",
       "      <th>3</th>\n",
       "      <td>10062</td>\n",
       "      <td>Social Media &gt; Direct Traffic &gt; Email</td>\n",
       "      <td>Social Media</td>\n",
       "      <td>1</td>\n",
       "    </tr>\n",
       "    <tr>\n",
       "      <th>4</th>\n",
       "      <td>10062</td>\n",
       "      <td>Social Media &gt; Direct Traffic &gt; Email</td>\n",
       "      <td>Direct Traffic</td>\n",
       "      <td>2</td>\n",
       "    </tr>\n",
       "  </tbody>\n",
       "</table>\n",
       "</div>"
      ],
      "text/plain": [
       "  User ID                                   Path         channel  touch_pos\n",
       "0   10028                             Search Ads      Search Ads          1\n",
       "1   10045               Search Ads > Display Ads      Search Ads          1\n",
       "2   10045               Search Ads > Display Ads     Display Ads          2\n",
       "3   10062  Social Media > Direct Traffic > Email    Social Media          1\n",
       "4   10062  Social Media > Direct Traffic > Email  Direct Traffic          2"
      ]
     },
     "execution_count": 43,
     "metadata": {},
     "output_type": "execute_result"
    }
   ],
   "source": [
    "lin_prep = (\n",
    "    paths.loc[paths[\"Path_Conversion\"] == 1, [\"User ID\", \"Path\"]]\n",
    "         .assign(touches=lambda x: x[\"Path\"].str.split(\" > \"))\n",
    "         .explode(\"touches\")\n",
    "         .rename(columns={\"touches\": \"channel\"})\n",
    "         .reset_index(drop=True)\n",
    ")\n",
    "\n",
    "# Optional: add position of the touch in the sequence\n",
    "lin_prep[\"touch_pos\"] = lin_prep.groupby(\"User ID\").cumcount() + 1\n",
    "lin_prep.to_csv(\"data/processed/linear_credit_prep.csv\", index=False)\n",
    "\n",
    "print(f\" Saved {len(lin_prep):,} touch rows for linear attribution to data/processed/linear_credit_prep.csv\")\n",
    "lin_prep.head()"
   ]
  },
  {
   "cell_type": "code",
   "execution_count": 44,
   "id": "ad466927-f2e7-4450-8cef-6151b9eb257a",
   "metadata": {},
   "outputs": [],
   "source": [
    "from collections import Counter\n"
   ]
  },
  {
   "cell_type": "code",
   "execution_count": 45,
   "id": "e1551795-1608-4ac7-a8b2-dd8299495b0e",
   "metadata": {},
   "outputs": [],
   "source": [
    "def path_to_edges(path: str, converted: int):\n",
    "    chans = path.split(\" > \") if isinstance(path, str) and path else []\n",
    "    edges = []\n",
    "    if not chans:\n",
    "        return edges\n",
    "    # Start -> first\n",
    "    edges.append((\"Start\", chans[0]))\n",
    "    # Middle transitions\n",
    "    for a, b in zip(chans[:-1], chans[1:]):\n",
    "        edges.append((a, b))\n",
    "    # Terminal transition\n",
    "    terminal = \"Conversion\" if int(converted) == 1 else \"Null\"\n",
    "    edges.append((chans[-1], terminal))\n",
    "    return edges"
   ]
  },
  {
   "cell_type": "code",
   "execution_count": 46,
   "id": "8df79b74-e2bc-4575-95bc-4ca032fb7e24",
   "metadata": {},
   "outputs": [],
   "source": [
    "all_edges = []\n",
    "for path, path_conversion in paths[[\"Path\", \"Path_Conversion\"]].itertuples(index=False):\n",
    "    all_edges.extend(path_to_edges(path, path_conversion))"
   ]
  },
  {
   "cell_type": "code",
   "execution_count": 47,
   "id": "05351142-c715-4f58-a390-f9c014298d9c",
   "metadata": {},
   "outputs": [
    {
     "name": "stdout",
     "output_type": "stream",
     "text": [
      " Saved transitions_edges.csv with 54 unique edges\n"
     ]
    },
    {
     "data": {
      "text/html": [
       "<div>\n",
       "<style scoped>\n",
       "    .dataframe tbody tr th:only-of-type {\n",
       "        vertical-align: middle;\n",
       "    }\n",
       "\n",
       "    .dataframe tbody tr th {\n",
       "        vertical-align: top;\n",
       "    }\n",
       "\n",
       "    .dataframe thead th {\n",
       "        text-align: right;\n",
       "    }\n",
       "</style>\n",
       "<table border=\"1\" class=\"dataframe\">\n",
       "  <thead>\n",
       "    <tr style=\"text-align: right;\">\n",
       "      <th></th>\n",
       "      <th>from_channel</th>\n",
       "      <th>to_channel</th>\n",
       "      <th>weight</th>\n",
       "    </tr>\n",
       "  </thead>\n",
       "  <tbody>\n",
       "    <tr>\n",
       "      <th>0</th>\n",
       "      <td>Direct Traffic</td>\n",
       "      <td>Conversion</td>\n",
       "      <td>402</td>\n",
       "    </tr>\n",
       "    <tr>\n",
       "      <th>1</th>\n",
       "      <td>Direct Traffic</td>\n",
       "      <td>Direct Traffic</td>\n",
       "      <td>64</td>\n",
       "    </tr>\n",
       "    <tr>\n",
       "      <th>2</th>\n",
       "      <td>Direct Traffic</td>\n",
       "      <td>Display Ads</td>\n",
       "      <td>49</td>\n",
       "    </tr>\n",
       "    <tr>\n",
       "      <th>3</th>\n",
       "      <td>Direct Traffic</td>\n",
       "      <td>Email</td>\n",
       "      <td>63</td>\n",
       "    </tr>\n",
       "    <tr>\n",
       "      <th>4</th>\n",
       "      <td>Direct Traffic</td>\n",
       "      <td>Null</td>\n",
       "      <td>86</td>\n",
       "    </tr>\n",
       "    <tr>\n",
       "      <th>5</th>\n",
       "      <td>Direct Traffic</td>\n",
       "      <td>Referral</td>\n",
       "      <td>57</td>\n",
       "    </tr>\n",
       "    <tr>\n",
       "      <th>6</th>\n",
       "      <td>Direct Traffic</td>\n",
       "      <td>Search Ads</td>\n",
       "      <td>46</td>\n",
       "    </tr>\n",
       "    <tr>\n",
       "      <th>7</th>\n",
       "      <td>Direct Traffic</td>\n",
       "      <td>Social Media</td>\n",
       "      <td>54</td>\n",
       "    </tr>\n",
       "    <tr>\n",
       "      <th>8</th>\n",
       "      <td>Display Ads</td>\n",
       "      <td>Conversion</td>\n",
       "      <td>415</td>\n",
       "    </tr>\n",
       "    <tr>\n",
       "      <th>9</th>\n",
       "      <td>Display Ads</td>\n",
       "      <td>Direct Traffic</td>\n",
       "      <td>56</td>\n",
       "    </tr>\n",
       "  </tbody>\n",
       "</table>\n",
       "</div>"
      ],
      "text/plain": [
       "     from_channel      to_channel  weight\n",
       "0  Direct Traffic      Conversion     402\n",
       "1  Direct Traffic  Direct Traffic      64\n",
       "2  Direct Traffic     Display Ads      49\n",
       "3  Direct Traffic           Email      63\n",
       "4  Direct Traffic            Null      86\n",
       "5  Direct Traffic        Referral      57\n",
       "6  Direct Traffic      Search Ads      46\n",
       "7  Direct Traffic    Social Media      54\n",
       "8     Display Ads      Conversion     415\n",
       "9     Display Ads  Direct Traffic      56"
      ]
     },
     "execution_count": 47,
     "metadata": {},
     "output_type": "execute_result"
    }
   ],
   "source": [
    "edge_counts = Counter(all_edges)\n",
    "transitions = (\n",
    "    pd.DataFrame([(a, b, w) for (a, b), w in edge_counts.items()],\n",
    "                 columns=[\"from_channel\", \"to_channel\", \"weight\"])\n",
    "       .sort_values([\"from_channel\", \"to_channel\"])\n",
    "       .reset_index(drop=True)\n",
    ")\n",
    "\n",
    "transitions.to_csv(\"data/processed/transitions_edges.csv\", index=False)\n",
    "print(f\" Saved transitions_edges.csv with {len(transitions):,} unique edges\")\n",
    "transitions.head(10)"
   ]
  },
  {
   "cell_type": "code",
   "execution_count": null,
   "id": "37c90115-dc65-40aa-9e4e-9ff0cf5a7f48",
   "metadata": {},
   "outputs": [],
   "source": []
  }
 ],
 "metadata": {
  "kernelspec": {
   "display_name": "Python [conda env:base] *",
   "language": "python",
   "name": "conda-base-py"
  },
  "language_info": {
   "codemirror_mode": {
    "name": "ipython",
    "version": 3
   },
   "file_extension": ".py",
   "mimetype": "text/x-python",
   "name": "python",
   "nbconvert_exporter": "python",
   "pygments_lexer": "ipython3",
   "version": "3.12.7"
  }
 },
 "nbformat": 4,
 "nbformat_minor": 5
}
