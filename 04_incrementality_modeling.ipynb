{
 "cells": [
  {
   "cell_type": "code",
   "execution_count": 55,
   "id": "21575bc5-a216-4156-814b-2bdaae16ddd0",
   "metadata": {},
   "outputs": [],
   "source": [
    "import pandas as pd"
   ]
  },
  {
   "cell_type": "code",
   "execution_count": 56,
   "id": "260f5161-ad5b-469b-b09d-b7aa5e162b26",
   "metadata": {},
   "outputs": [],
   "source": [
    "user_paths = pd.read_csv(\"data/processed/user_paths.csv\")"
   ]
  },
  {
   "cell_type": "code",
   "execution_count": 57,
   "id": "0e859dc1-8817-483c-9de3-b61f06aaa872",
   "metadata": {},
   "outputs": [
    {
     "name": "stdout",
     "output_type": "stream",
     "text": [
      "\n",
      "Columns: ['User ID', 'Path', 'Path_Conversion', 'path_length', 'n_unique_channels', 'first_channel', 'last_channel', 'path_start', 'path_end', 'path_duration']\n",
      "   User ID                                   Path  Path_Conversion  \\\n",
      "0    10028                             Search Ads                1   \n",
      "1    10045               Search Ads > Display Ads                1   \n",
      "2    10062  Social Media > Direct Traffic > Email                1   \n",
      "3    10068                             Search Ads                1   \n",
      "4    10095                            Display Ads                1   \n",
      "\n",
      "   path_length  n_unique_channels first_channel last_channel  \\\n",
      "0            1                  1    Search Ads   Search Ads   \n",
      "1            2                  2    Search Ads  Display Ads   \n",
      "2            3                  3  Social Media        Email   \n",
      "3            1                  1    Search Ads   Search Ads   \n",
      "4            1                  1   Display Ads  Display Ads   \n",
      "\n",
      "                  path_start                   path_end  path_duration  \n",
      "0  2025-02-10 01:44:12+00:00  2025-02-10 01:44:12+00:00              0  \n",
      "1  2025-02-10 17:20:43+00:00  2025-02-11 18:44:15+00:00          91412  \n",
      "2  2025-02-10 15:42:42+00:00  2025-02-11 21:10:27+00:00         106065  \n",
      "3  2025-02-10 07:07:39+00:00  2025-02-10 07:07:39+00:00              0  \n",
      "4  2025-02-10 07:07:27+00:00  2025-02-10 07:07:27+00:00              0  \n"
     ]
    }
   ],
   "source": [
    "print(\"\\nColumns:\", user_paths.columns.tolist())\n",
    "print(user_paths.head())"
   ]
  },
  {
   "cell_type": "code",
   "execution_count": 58,
   "id": "779fd8c0-0c29-42aa-98a5-e82623f826cf",
   "metadata": {},
   "outputs": [
    {
     "name": "stdout",
     "output_type": "stream",
     "text": [
      "\n",
      "Schema looks good (all required columns present).\n"
     ]
    }
   ],
   "source": [
    "required = {\"User ID\", \"Path\", \"Path_Conversion\", \"first_channel\", \"last_channel\"}\n",
    "missing = required - set(user_paths.columns)\n",
    "if missing:\n",
    "    print(\"\\n Missing expected columns:\", missing)\n",
    "else:\n",
    "    print(\"\\nSchema looks good (all required columns present).\")\n"
   ]
  },
  {
   "cell_type": "code",
   "execution_count": 59,
   "id": "2379b13f-f0bc-4954-8388-ae752525891b",
   "metadata": {},
   "outputs": [
    {
     "name": "stdout",
     "output_type": "stream",
     "text": [
      "\n",
      " No 'Campaign' column in user_paths. You may need to merge campaign info back from raw events.\n"
     ]
    }
   ],
   "source": [
    "if \"Campaign\" not in user_paths.columns:\n",
    "    print(\"\\n No 'Campaign' column in user_paths. You may need to merge campaign info back from raw events.\")\n",
    "else:\n",
    "    n_campaigns = user_paths[\"Campaign\"].nunique()\n",
    "    users_per_campaign = user_paths.groupby(\"Campaign\")[\"User ID\"].nunique().sort_values(ascending=False)\n",
    "    \n",
    "    print(f\"\\n# of unique campaigns: {n_campaigns}\")\n",
    "    print(\"Top 5 campaigns by users exposed:\")\n",
    "    print(users_per_campaign.head())"
   ]
  },
  {
   "cell_type": "code",
   "execution_count": 60,
   "id": "87fa6899-f1d2-4e0b-ba23-adab71ef6b7d",
   "metadata": {},
   "outputs": [
    {
     "name": "stdout",
     "output_type": "stream",
     "text": [
      "Events shape: (10000, 5)\n",
      "  User ID                 Timestamp         Channel            Campaign  \\\n",
      "0   83281 2025-02-10 07:58:51+00:00           Email  New Product Launch   \n",
      "1   68071 2025-02-10 23:38:48+00:00      Search Ads         Winter Sale   \n",
      "2   90131 2025-02-11 10:41:07+00:00    Social Media     Brand Awareness   \n",
      "3   71026 2025-02-10 08:19:44+00:00  Direct Traffic                   -   \n",
      "4   94486 2025-02-10 15:15:46+00:00           Email         Retargeting   \n",
      "\n",
      "   conversion_flag  \n",
      "0                0  \n",
      "1                0  \n",
      "2                1  \n",
      "3                1  \n",
      "4                1  \n"
     ]
    }
   ],
   "source": [
    "events = pd.read_parquet(\"data/processed/events_clean.parquet\")  # or CSV\n",
    "print(\"Events shape:\", events.shape)\n",
    "print(events.head())"
   ]
  },
  {
   "cell_type": "code",
   "execution_count": 61,
   "id": "5eea61db-10dc-40b2-9056-95b1eacb803c",
   "metadata": {},
   "outputs": [
    {
     "name": "stdout",
     "output_type": "stream",
     "text": [
      "User-campaign mapping (head):\n",
      "  User ID                                      campaign_list\n",
      "0   10028  ['-', 'Discount Offer']\n",
      "Categories (6, object)...\n",
      "1   10045  ['New Product Launch', 'Discount Offer']\n",
      "Categ...\n",
      "2   10062  ['Brand Awareness', '-']\n",
      "Categories (6, object...\n",
      "3   10068  ['Winter Sale', '-', 'New Product Launch', 'Re...\n",
      "4   10095  ['Retargeting', '-', 'New Product Launch']\n",
      "Cat...\n"
     ]
    }
   ],
   "source": [
    "user_campaigns = (\n",
    "    events.groupby(\"User ID\")[\"Campaign\"]\n",
    "          .unique()\n",
    "          .reset_index()\n",
    "          .rename(columns={\"Campaign\": \"campaign_list\"})\n",
    ")\n",
    "\n",
    "print(\"User-campaign mapping (head):\")\n",
    "print(user_campaigns.head())\n"
   ]
  },
  {
   "cell_type": "code",
   "execution_count": 62,
   "id": "39d48442-a9bd-424b-b09d-f6c445d26dd9",
   "metadata": {},
   "outputs": [],
   "source": [
    "first_campaign = (\n",
    "    events.groupby(\"User ID\")[\"Campaign\"]\n",
    "          .first()\n",
    "          .reset_index()\n",
    "          .rename(columns={\"Campaign\": \"Campaign\"})\n",
    ")\n",
    "\n",
    "\n",
    "user_paths[\"User ID\"] = user_paths[\"User ID\"].astype(str)\n",
    "first_campaign[\"User ID\"] = first_campaign[\"User ID\"].astype(str)\n",
    "\n",
    "user_paths = user_paths.merge(first_campaign, on=\"User ID\", how=\"left\")"
   ]
  },
  {
   "cell_type": "code",
   "execution_count": 63,
   "id": "471bffd8-1cba-4463-8eb6-00e1f4674a90",
   "metadata": {},
   "outputs": [
    {
     "name": "stdout",
     "output_type": "stream",
     "text": [
      "# unique campaigns: 6\n",
      "Top 5 campaigns by user exposure:\n",
      "Campaign\n",
      "-                     930\n",
      "New Product Launch    402\n",
      "Brand Awareness       397\n",
      "Discount Offer        386\n",
      "Retargeting           367\n",
      "Name: count, dtype: int64\n"
     ]
    }
   ],
   "source": [
    "if \"Campaign\" in user_paths.columns:\n",
    "    print(\"# unique campaigns:\", user_paths[\"Campaign\"].nunique())\n",
    "    print(\"Top 5 campaigns by user exposure:\")\n",
    "    print(user_paths[\"Campaign\"].value_counts().head())\n",
    "\n",
    "elif \"campaign_list\" in user_paths.columns:\n",
    "    all_camps = pd.Series([c for lst in user_paths[\"campaign_list\"].dropna() for c in lst])\n",
    "    print(\"# unique campaigns:\", all_camps.nunique())\n",
    "    print(\"Top 5 campaigns overall:\")\n",
    "    print(all_camps.value_counts().head())"
   ]
  },
  {
   "cell_type": "code",
   "execution_count": 64,
   "id": "4d6f1d98-b4d0-4532-a112-25b3ff12dd87",
   "metadata": {},
   "outputs": [],
   "source": [
    "import numpy as np\n",
    "from pathlib import Path\n",
    "import matplotlib.pyplot as plt"
   ]
  },
  {
   "cell_type": "code",
   "execution_count": 65,
   "id": "6c1b878d-70cb-452e-9b8b-7d6cce53c465",
   "metadata": {},
   "outputs": [],
   "source": [
    "user_paths = pd.read_csv(\"data/processed/user_paths.csv\")           # has 'User ID', 'Path_Conversion'\n",
    "try:\n",
    "    events = pd.read_parquet(\"data/processed/events_clean.parquet\") # has 'User ID', 'Campaign'\n",
    "except FileNotFoundError:\n",
    "    events = pd.read_csv(\"data/processed/events_clean.csv\")"
   ]
  },
  {
   "cell_type": "code",
   "execution_count": 66,
   "id": "d301abd3-1b27-4747-a06b-455fa8666160",
   "metadata": {},
   "outputs": [],
   "source": [
    "user_paths[\"User ID\"] = user_paths[\"User ID\"].astype(str).str.strip()\n",
    "events[\"User ID\"]     = events[\"User ID\"].astype(str).str.strip()\n"
   ]
  },
  {
   "cell_type": "code",
   "execution_count": 67,
   "id": "bca3e882-339a-4ea0-816d-5876da457db0",
   "metadata": {},
   "outputs": [],
   "source": [
    "events[\"Campaign\"] = events[\"Campaign\"].astype(str).str.strip()\n",
    "events.loc[events[\"Campaign\"].isin([\"\", \"nan\", \"None\", \"NaN\", \"-\"]), \"Campaign\"] = np.nan\n"
   ]
  },
  {
   "cell_type": "code",
   "execution_count": 68,
   "id": "53a1698f-579f-4c4b-99e7-d3130b1d4645",
   "metadata": {},
   "outputs": [],
   "source": [
    "events = events.dropna(subset=[\"User ID\", \"Campaign\"])\n",
    "user_paths = user_paths.dropna(subset=[\"User ID\"])\n",
    "events = events[events[\"User ID\"].isin(user_paths[\"User ID\"])]\n"
   ]
  },
  {
   "cell_type": "code",
   "execution_count": 69,
   "id": "f666d1ce-0342-439b-b7ca-429b16d0f2b7",
   "metadata": {},
   "outputs": [
    {
     "name": "stdout",
     "output_type": "stream",
     "text": [
      "Users in events: 2666 | in user_paths: 2847 | overlap: 2666\n"
     ]
    }
   ],
   "source": [
    "overlap_users = len(set(events[\"User ID\"]).intersection(set(user_paths[\"User ID\"])))\n",
    "print(f\"Users in events: {events['User ID'].nunique()} | in user_paths: {user_paths['User ID'].nunique()} | overlap: {overlap_users}\")\n"
   ]
  },
  {
   "cell_type": "code",
   "execution_count": 70,
   "id": "f9da5538-a6e9-43e1-bd23-eb7dce8702e0",
   "metadata": {},
   "outputs": [],
   "source": [
    "user_conv = (user_paths\n",
    "             .drop_duplicates(subset=[\"User ID\"])\n",
    "             .set_index(\"User ID\")[\"Path_Conversion\"])\n",
    "\n",
    "camp_users = (events.groupby(\"Campaign\")[\"User ID\"]\n",
    "                     .unique()\n",
    "                     .reset_index(name=\"exposed_users\"))\n",
    "\n",
    "all_users = set(user_conv.index)\n"
   ]
  },
  {
   "cell_type": "code",
   "execution_count": 71,
   "id": "38370111-248b-4422-ae1f-114a532d9fba",
   "metadata": {},
   "outputs": [
    {
     "name": "stdout",
     "output_type": "stream",
     "text": [
      " Saved campaign incrementality to data/processed/campaign_incrementality.csv\n",
      "             Campaign  Conv_Exposed  Conv_Control  Lift%  p_value  n_exposed  \\\n",
      "0     Brand Awareness      0.890399      0.802065  11.01      0.0       1104   \n",
      "1         Retargeting      0.888686      0.803541  10.60      0.0       1096   \n",
      "2         Winter Sale      0.888479      0.804200  10.48      0.0       1085   \n",
      "3      Discount Offer      0.885687      0.807863   9.63      0.0       1041   \n",
      "4  New Product Launch      0.881356      0.807068   9.20      0.0       1121   \n",
      "\n",
      "   n_control  \n",
      "0       1743  \n",
      "1       1751  \n",
      "2       1762  \n",
      "3       1806  \n",
      "4       1726  \n"
     ]
    },
    {
     "data": {
      "image/png": "[encoded data removed]",
      "text/plain": [
       "<Figure size 1000x500 with 1 Axes>"
      ]
     },
     "metadata": {},
     "output_type": "display_data"
    }
   ],
   "source": [
    "rows = []\n",
    "for _, r in camp_users.iterrows():\n",
    "    camp = r[\"Campaign\"]\n",
    "    exposed = set(r[\"exposed_users\"]).intersection(all_users)  # only users with conversion labels\n",
    "    control = all_users - exposed\n",
    "\n",
    "    n_exp, n_ctl = len(exposed), len(control)\n",
    "\n",
    "    if n_exp == 0 or n_ctl == 0:\n",
    "        rows.append({\"Campaign\": camp, \"Conv_Exposed\": np.nan, \"Conv_Control\": np.nan,\n",
    "                     \"Lift%\": np.nan, \"p_value\": np.nan, \"n_exposed\": n_exp, \"n_control\": n_ctl})\n",
    "        continue\n",
    "\n",
    "    exp_conv = user_conv.loc[list(exposed)]\n",
    "    ctl_conv = user_conv.loc[list(control)]\n",
    "\n",
    "    conv_exp = exp_conv.mean()\n",
    "    conv_ctl = ctl_conv.mean()\n",
    "    lift = (conv_exp - conv_ctl) / conv_ctl if conv_ctl > 0 else np.inf\n",
    "\n",
    "    # two-proportion z-test (pooled)\n",
    "    x1, n1 = int(exp_conv.sum()), len(exp_conv)\n",
    "    x2, n2 = int(ctl_conv.sum()), len(ctl_conv)\n",
    "    p_pool = (x1 + x2) / (n1 + n2)\n",
    "    denom = np.sqrt(max(p_pool * (1 - p_pool), 1e-12) * (1/n1 + 1/n2))\n",
    "    z = (conv_exp - conv_ctl) / denom if denom > 0 else np.nan\n",
    "\n",
    "    from math import erf, sqrt\n",
    "    phi = lambda z_: 0.5 * (1 + erf(z_ / sqrt(2)))\n",
    "    p_value = 2 * (1 - phi(abs(z))) if not np.isnan(z) else np.nan\n",
    "\n",
    "    rows.append({\n",
    "        \"Campaign\": camp,\n",
    "        \"Conv_Exposed\": round(float(conv_exp), 6),\n",
    "        \"Conv_Control\": round(float(conv_ctl), 6),\n",
    "        \"Lift%\": round(float(lift) * 100, 2) if np.isfinite(lift) else np.inf,\n",
    "        \"p_value\": round(float(p_value), 6) if p_value == p_value else np.nan,\n",
    "        \"n_exposed\": n1,\n",
    "        \"n_control\": n2\n",
    "    })\n",
    "\n",
    "results = (pd.DataFrame(rows)\n",
    "           .sort_values([\"Lift%\"], ascending=False)\n",
    "           .reset_index(drop=True))\n",
    "\n",
    "Path(\"data/processed\").mkdir(parents=True, exist_ok=True)\n",
    "out_path = \"data/processed/campaign_incrementality.csv\"\n",
    "results.to_csv(out_path, index=False)\n",
    "print(f\" Saved campaign incrementality to {out_path}\")\n",
    "print(results.head(10))\n",
    "\n",
    "\n",
    "plot_df = results.replace([np.inf, -np.inf], np.nan).dropna(subset=[\"Lift%\"]).head(10)\n",
    "plt.figure(figsize=(10,5))\n",
    "plt.bar(plot_df[\"Campaign\"].astype(str), plot_df[\"Lift%\"])\n",
    "plt.title(\"Top 10 Campaigns by Incremental Lift (%)\")\n",
    "plt.ylabel(\"Lift (%)\")\n",
    "plt.xticks(rotation=45, ha=\"right\")\n",
    "plt.tight_layout()\n",
    "plt.show()"
   ]
  },
  {
   "cell_type": "code",
   "execution_count": 72,
   "id": "caecd367-ee68-4cb0-b449-e0e14c0282b3",
   "metadata": {},
   "outputs": [
    {
     "name": "stdout",
     "output_type": "stream",
     "text": [
      "Optimization terminated successfully.\n",
      "         Current function value: 0.440949\n",
      "         Iterations 6\n",
      "                           Logit Regression Results                           \n",
      "==============================================================================\n",
      "Dep. Variable:                      y   No. Observations:                 2847\n",
      "Model:                          Logit   Df Residuals:                     2845\n",
      "Method:                           MLE   Df Model:                            1\n",
      "Date:                Sat, 18 Oct 2025   Pseudo R-squ.:                 0.01071\n",
      "Time:                        19:21:19   Log-Likelihood:                -1255.4\n",
      "converged:                       True   LL-Null:                       -1269.0\n",
      "Covariance Type:            nonrobust   LLR p-value:                 1.849e-07\n",
      "==============================================================================\n",
      "                 coef    std err          z      P>|z|      [0.025      0.975]\n",
      "------------------------------------------------------------------------------\n",
      "const          1.4415      0.060     23.868      0.000       1.323       1.560\n",
      "x1             0.5686      0.112      5.071      0.000       0.349       0.788\n",
      "==============================================================================\n"
     ]
    },
    {
     "name": "stderr",
     "output_type": "stream",
     "text": [
      "/opt/anaconda3/lib/python3.12/site-packages/statsmodels/base/model.py:130: ValueWarning: unknown kwargs ['freq_weights']\n",
      "  warnings.warn(msg, ValueWarning)\n",
      "/opt/anaconda3/lib/python3.12/site-packages/statsmodels/base/model.py:130: ValueWarning: unknown kwargs ['freq_weights']\n",
      "  warnings.warn(msg, ValueWarning)\n"
     ]
    }
   ],
   "source": [
    "from sklearn.linear_model import LogisticRegression\n",
    "from sklearn.model_selection import train_test_split\n",
    "from sklearn.utils import resample\n",
    "import statsmodels.api as sm\n",
    "import numpy as np \n",
    "\n",
    "target_channel = \"Email\"\n",
    "\n",
    "user_paths[\"treated\"] = user_paths[\"User ID\"].isin(\n",
    "    events[events[\"Channel\"] == target_channel][\"User ID\"]\n",
    ")\n",
    "\n",
    "X = user_paths[[\"path_length\", \"n_unique_channels\"]]\n",
    "y = user_paths[\"treated\"].astype(int)\n",
    "\n",
    "logit = LogisticRegression(max_iter=1000)\n",
    "logit.fit(X, y)\n",
    "propensity_scores = logit.predict_proba(X)[:,1]\n",
    "\n",
    "weights = np.where(user_paths[\"treated\"] == 1, 1/propensity_scores, 1/(1-propensity_scores))\n",
    "\n",
    "y_outcome = np.asarray(user_paths[\"Path_Conversion\"], dtype=float)\n",
    "treatment = np.asarray(user_paths[\"treated\"], dtype=float)\n",
    "treatment_with_const = sm.add_constant(treatment)\n",
    "\n",
    "model = sm.Logit(y_outcome, treatment_with_const, freq_weights=weights)\n",
    "result = model.fit()\n",
    "print(result.summary())"
   ]
  },
  {
   "cell_type": "code",
   "execution_count": 73,
   "id": "ec99372f-8940-48ba-80e5-fbe8524f552f",
   "metadata": {},
   "outputs": [
    {
     "name": "stdout",
     "output_type": "stream",
     "text": [
      " Saved data/processed/channel_causal_aipw.csv\n",
      "          Channel  ATE_pp    SE      z   p_value  n_exposed  n_control\n",
      "0     Display Ads    4.18  1.51  2.772  0.005567        724       2123\n",
      "1        Referral    1.39  1.56  0.893  0.372101        753       2094\n",
      "2    Social Media   -0.22  1.62 -0.137  0.891394        740       2107\n",
      "3           Email   -0.61  1.67 -0.366  0.714266        710       2137\n",
      "4  Direct Traffic   -0.77  1.61 -0.479  0.631696        729       2118\n",
      "5      Search Ads   -4.60  1.76 -2.611  0.009033        701       2146\n"
     ]
    }
   ],
   "source": [
    "from math import erf, sqrt\n",
    "from sklearn.linear_model import LogisticRegression\n",
    "\n",
    "# ---------------- Config ----------------\n",
    "PRE_CONVERSION = True      \n",
    "MIN_EXPOSED    = 30       \n",
    "FEATURE_COLS   = [\"path_length\", \"n_unique_channels\"]  \n",
    "\n",
    "# ---------------- Load data ----------------\n",
    "user_paths = pd.read_csv(\"data/processed/user_paths.csv\")   \n",
    "try:\n",
    "    events = pd.read_parquet(\"data/processed/events_clean.parquet\")\n",
    "except FileNotFoundError:\n",
    "    events = pd.read_csv(\"data/processed/events_clean.csv\")\n",
    "\n",
    "user_paths[\"User ID\"] = user_paths[\"User ID\"].astype(str).str.strip()\n",
    "events[\"User ID\"]     = events[\"User ID\"].astype(str).str.strip()\n",
    "events[\"Channel\"]     = events[\"Channel\"].astype(str).str.strip()\n",
    "\n",
    "events = events[events[\"User ID\"].isin(user_paths[\"User ID\"])]\n",
    "\n",
    "if PRE_CONVERSION:\n",
    "    events[\"Timestamp\"] = pd.to_datetime(events[\"Timestamp\"], errors=\"coerce\", utc=True)\n",
    "    first_conv_ts = (events[events[\"conversion_flag\"] == 1]\n",
    "                     .groupby(\"User ID\")[\"Timestamp\"].min()\n",
    "                     .rename(\"first_conv_ts\"))\n",
    "    ev = events.join(first_conv_ts, on=\"User ID\")\n",
    "    mask_pre = ev[\"first_conv_ts\"].isna() | (ev[\"Timestamp\"] <= ev[\"first_conv_ts\"])\n",
    "    ev = ev.loc[mask_pre, [\"User ID\", \"Channel\"]]\n",
    "else:\n",
    "    ev = events[[\"User ID\", \"Channel\"]]\n",
    "\n",
    "exposures = (ev.groupby([\"User ID\", \"Channel\"])\n",
    "               .size()\n",
    "               .unstack(\"Channel\")\n",
    "               .notna()\n",
    "               .astype(int)\n",
    "               .fillna(0))\n",
    "\n",
    "dfu = user_paths.set_index(\"User ID\")[[\"Path_Conversion\"] + FEATURE_COLS].copy()\n",
    "dfu = dfu.join(exposures, how=\"left\").fillna(0)\n",
    "\n",
    "Y = dfu[\"Path_Conversion\"].astype(int).values\n",
    "X = dfu[FEATURE_COLS].astype(float).values\n",
    "\n",
    "phi = lambda z: 0.5 * (1 + erf(z / sqrt(2)))\n",
    "\n",
    "def aipw_ate_binary(Y, Z, X):\n",
    "    # Propensity\n",
    "    prop = LogisticRegression(max_iter=2000)\n",
    "    prop.fit(X, Z)\n",
    "    e = np.clip(prop.predict_proba(X)[:,1], 1e-6, 1-1e-6)\n",
    "\n",
    "    # Outcome\n",
    "    XZ = np.column_stack([X, Z])\n",
    "    out = LogisticRegression(max_iter=2000)\n",
    "    out.fit(XZ, Y)\n",
    "    m1 = out.predict_proba(np.column_stack([X, np.ones_like(Z)]))[:,1]\n",
    "    m0 = out.predict_proba(np.column_stack([X, np.zeros_like(Z)]))[:,1]\n",
    "\n",
    "    # AIPW influence function\n",
    "    IF = (m1 - m0) + Z*(Y - m1)/e - (1-Z)*(Y - m0)/(1-e)\n",
    "    ate = IF.mean()\n",
    "    se = IF.std(ddof=1) / np.sqrt(len(Y))\n",
    "    z = ate/se if se>0 else np.nan\n",
    "    p = 2*(1 - phi(abs(z))) if not np.isnan(z) else np.nan\n",
    "    return float(ate), float(se), float(z), float(p)\n",
    "\n",
    "# ---------------- Run across all channels ----------------\n",
    "rows = []\n",
    "for ch in exposures.columns:\n",
    "    Z = dfu[ch].astype(int).values\n",
    "    n_exp, n_ctl = int(Z.sum()), len(Z) - int(Z.sum())\n",
    "    if n_exp < MIN_EXPOSED or n_ctl < MIN_EXPOSED:\n",
    "        rows.append({\"Channel\": ch, \"ATE_pp\": np.nan, \"SE\": np.nan,\n",
    "                     \"z\": np.nan, \"p_value\": np.nan,\n",
    "                     \"n_exposed\": n_exp, \"n_control\": n_ctl})\n",
    "        continue\n",
    "\n",
    "    ate, se, z, p = aipw_ate_binary(Y, Z, X)\n",
    "    ate_pp = ate * 100\n",
    "    rows.append({\n",
    "        \"Channel\": ch,\n",
    "        \"ATE_pp\": round(ate_pp, 2),        # percentage point lift\n",
    "        \"SE\": round(se*100, 2),            # std error in pp\n",
    "        \"z\": round(z, 3),\n",
    "        \"p_value\": round(p, 6),\n",
    "        \"n_exposed\": n_exp,\n",
    "        \"n_control\": n_ctl\n",
    "    })\n",
    "\n",
    "dr_results = pd.DataFrame(rows).sort_values(\"ATE_pp\", ascending=False).reset_index(drop=True)\n",
    "\n",
    "# Save\n",
    "Path(\"data/processed\").mkdir(parents=True, exist_ok=True)\n",
    "out_path = \"data/processed/channel_causal_aipw.csv\"\n",
    "dr_results.to_csv(out_path, index=False)\n",
    "print(f\" Saved {out_path}\")\n",
    "print(dr_results.head(10))\n"
   ]
  },
  {
   "cell_type": "code",
   "execution_count": null,
   "id": "ef22a28c-14ae-4380-ad40-05f8e85bf45e",
   "metadata": {},
   "outputs": [],
   "source": []
  },
  {
   "cell_type": "code",
   "execution_count": null,
   "id": "3fbaa304-b32c-4d04-9862-39ea1cc4de47",
   "metadata": {},
   "outputs": [],
   "source": []
  }
 ],
 "metadata": {
  "kernelspec": {
   "display_name": "Python [conda env:base] *",
   "language": "python",
   "name": "conda-base-py"
  },
  "language_info": {
   "codemirror_mode": {
    "name": "ipython",
    "version": 3
   },
   "file_extension": ".py",
   "mimetype": "text/x-python",
   "name": "python",
   "nbconvert_exporter": "python",
   "pygments_lexer": "ipython3",
   "version": "3.12.7"
  }
 },
 "nbformat": 4,
 "nbformat_minor": 5
}
